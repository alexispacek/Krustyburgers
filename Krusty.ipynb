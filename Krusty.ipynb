{
 "cells": [
  {
   "cell_type": "code",
   "execution_count": 2,
   "id": "c0d767ca",
   "metadata": {},
   "outputs": [],
   "source": [
    "#By: Alexis Pacek\n",
    "#Date: Octubre de 2021\n",
    "\n",
    "\n",
    "\n",
    "#Importo las librerias\n",
    "import pandas as pd\n",
    "import numpy as np\n",
    "import matplotlib.pyplot as plt\n",
    "import seaborn as sns\n",
    "from scipy import stats"
   ]
  },
  {
   "cell_type": "code",
   "execution_count": 3,
   "id": "b38b0f66",
   "metadata": {},
   "outputs": [],
   "source": [
    "#importo el data set de las ventas de krostyburgers\n",
    "df = pd.read_csv('Argetina-2019-anonimizado.csv', parse_dates = True) "
   ]
  },
  {
   "cell_type": "markdown",
   "id": "d4f89efb",
   "metadata": {},
   "source": [
    "# Exploración inicial\n",
    "\n",
    "###  ¿La tabla posee valores nulos?"
   ]
  },
  {
   "cell_type": "code",
   "execution_count": 4,
   "id": "86229cbb",
   "metadata": {
    "scrolled": true
   },
   "outputs": [
    {
     "name": "stdout",
     "output_type": "stream",
     "text": [
      "Hay 0 valores nulos en la tabla.\n"
     ]
    }
   ],
   "source": [
    "string_vacio = df.applymap(lambda x: x == '').sum().sum() #Busco entradas con strings vacios ('')\n",
    "nan_y_none = df.isnull().sum().sum() #Busco NaN's y None's\n",
    "print('Hay %d valores nulos en la tabla.' % (string_vacio+nan_y_none)) #sumo los 3 tipos y los printeo"
   ]
  },
  {
   "cell_type": "markdown",
   "id": "361ed884",
   "metadata": {
    "scrolled": true
   },
   "source": [
    "### ¿Cuántos locales posee la empresa?"
   ]
  },
  {
   "cell_type": "code",
   "execution_count": 5,
   "id": "0cb32481",
   "metadata": {},
   "outputs": [
    {
     "name": "stdout",
     "output_type": "stream",
     "text": [
      "Hay 232 locales.\n"
     ]
    }
   ],
   "source": [
    "\"\"\"\n",
    "cuento la cantidad de elementos que hay en un array conformado por \n",
    "los id's de los locales sin repetir.\n",
    "\"\"\"\n",
    "total_locales = len(df['Local'].unique()) \n",
    "\n",
    "print('Hay' , total_locales, 'locales.') \n"
   ]
  },
  {
   "cell_type": "markdown",
   "id": "fe1d0fcd",
   "metadata": {},
   "source": [
    "### ¿Cuántos tipos de locales hay? ¿Cuántos locales hay por cada tipo?"
   ]
  },
  {
   "cell_type": "code",
   "execution_count": 11,
   "id": "be87c69a",
   "metadata": {
    "scrolled": true
   },
   "outputs": [
    {
     "name": "stdout",
     "output_type": "stream",
     "text": [
      "Hay 4 tipos de locales.\n",
      " Ellos son:\n",
      "- IS\n",
      "- FC\n",
      "- FS\n",
      "- MS\n"
     ]
    }
   ],
   "source": [
    "\"\"\"\n",
    "\n",
    "De cada entrada tomo la información del tipo de local, luego me quedo con los elementos\n",
    "que no se repiten. Printeo cuantos elementos no se repiten y cuales son ellos.\n",
    "\n",
    "\"\"\"\n",
    "\n",
    "cantidad_de_locales = len(df['Tipo_Local'].unique())\n",
    "\n",
    "print('Hay', cantidad_de_locales,'tipos de locales.\\n Ellos son:')\n",
    "\n",
    "for i in df['Tipo_Local'].unique():\n",
    "    print('-',i)\n"
   ]
  },
  {
   "cell_type": "code",
   "execution_count": 44,
   "id": "d0b932c9",
   "metadata": {},
   "outputs": [
    {
     "name": "stdout",
     "output_type": "stream",
     "text": [
      "Hay 0 entradas clasificadas como 2 tipos de locales (o más) al mismo tiempo.\n"
     ]
    }
   ],
   "source": [
    "\"\"\"\n",
    "Corroboro que cada local solo este clasificado como un único tipo de local.\n",
    "\n",
    "\"\"\"\n",
    "\n",
    "aux = []\n",
    "for i in df.Local.unique():\n",
    "    if len(df[df.Local==i]['Tipo_Local'].unique()) >=2:\n",
    "        aux.append(len(df[df.Local==i]['Tipo_Local'].unique()))\n",
    "        \n",
    "print('Hay',len(aux),'entradas clasificadas como 2 tipos de locales (o más) al mismo tiempo.')    "
   ]
  },
  {
   "cell_type": "code",
   "execution_count": 45,
   "id": "dde97697",
   "metadata": {
    "scrolled": true
   },
   "outputs": [
    {
     "name": "stdout",
     "output_type": "stream",
     "text": [
      "81 locales son IS. 34.91 %\n",
      "37 locales son FC. 15.95 %\n",
      "65 locales son FS. 28.02 %\n",
      "49 locales son MS. 21.12 %\n"
     ]
    }
   ],
   "source": [
    "\"\"\"\n",
    "Como cada local solo esta caractizado como uno de los 4 tipos posibles.\n",
    "Filtro todas las entradas en donde se repite el número de local y cuento \n",
    "cuantos locales hay de cada tipo. Printeo el valor absoluto y el valor relativo para cada uno de \n",
    "los 4 tipos.\n",
    "\n",
    "\"\"\"\n",
    "\n",
    "tipos_locales = df['Tipo_Local'].unique()\n",
    "todos = df.drop_duplicates(['Local'])\n",
    "\n",
    "for i in tipos_locales:\n",
    "\n",
    "    cantidad = todos[todos.Tipo_Local==i].shape[0]\n",
    "    print(cantidad,'locales son', i+'.', round((cantidad/total_locales)*100,2),'%')"
   ]
  },
  {
   "cell_type": "markdown",
   "id": "cd8c78b5",
   "metadata": {},
   "source": [
    "### ¿Cuántas áreas hay? ¿Todos los locales tienen la misma cantidad de áreas? Graficar la distribución de la cantidad de áreas por local."
   ]
  },
  {
   "cell_type": "code",
   "execution_count": 48,
   "id": "1b105c1f",
   "metadata": {},
   "outputs": [
    {
     "name": "stdout",
     "output_type": "stream",
     "text": [
      "Hay 9 áreas.\n"
     ]
    }
   ],
   "source": [
    "areas = df['Area'].unique()      #creo un array con las áreas posibles\n",
    "cant_areas = len(areas)          #cuento cuantas areas hay\n",
    "print('Hay',cant_areas,'áreas.') #printeo cant. de áreas\n"
   ]
  },
  {
   "cell_type": "code",
   "execution_count": 49,
   "id": "bfe70f09",
   "metadata": {
    "scrolled": false
   },
   "outputs": [
    {
     "name": "stdout",
     "output_type": "stream",
     "text": [
      "Local número 462 tiene [6 7 9] áreas\n",
      "Local número 89869 tiene [5 6] áreas\n",
      "Local número 89985 tiene [ 6 17  5] áreas\n",
      "Local número 507 tiene [6 9 3] áreas\n",
      "Local número 403 tiene [3 6] áreas\n"
     ]
    }
   ],
   "source": [
    "#Exploro para 5 locales\n",
    "\n",
    "j=0\n",
    "for i in df['Local'].unique():\n",
    "    print('Local número',i,'tiene',df[df.Local==i]['Area'].unique(),\n",
    "          'áreas')\n",
    "    j+=1\n",
    "    if j==5:\n",
    "        break"
   ]
  },
  {
   "cell_type": "markdown",
   "id": "ac5bc866",
   "metadata": {},
   "source": [
    "### Conclusión: distintos locales pueden tener distintas áreas."
   ]
  },
  {
   "cell_type": "code",
   "execution_count": 96,
   "id": "c4e5e3cc",
   "metadata": {},
   "outputs": [],
   "source": [
    "\"\"\"\n",
    "creo la variable \"y\" donde voy a appendear todas las áreas que hay para cada local\n",
    "\n",
    "\"\"\"\n",
    "\n",
    "y=[]\n",
    "for i in df['Local'].unique():\n",
    "    a = df[df.Local==i]['Area'].unique()\n",
    "    for j in a:\n",
    "        y.append(j)"
   ]
  },
  {
   "cell_type": "code",
   "execution_count": 155,
   "id": "e4c3a5f2",
   "metadata": {
    "scrolled": false
   },
   "outputs": [
    {
     "data": {
      "image/png": "[encoded data removed]",
      "text/plain": [
       "<Figure size 720x432 with 1 Axes>"
      ]
     },
     "metadata": {
      "needs_background": "light"
     },
     "output_type": "display_data"
    }
   ],
   "source": [
    "\"\"\"\n",
    "Grafico el histograma normalizado.\n",
    "\"\"\"\n",
    "\n",
    "plt.figure(figsize=(10,6))\n",
    "g = sns.histplot(y, stat='probability', label='Probabilidad')\n",
    "g.set_xlabel('Área')\n",
    "g.set_ylabel('Probabilidad [%]')\n",
    "plt.xticks(areas)\n",
    "plt.title(\"Distribución de área total por local\");\n",
    "plt.legend();\n"
   ]
  },
  {
   "cell_type": "markdown",
   "id": "c9aa10dc",
   "metadata": {},
   "source": [
    "###  ¿Están correlacionadas la hora y la venta? Cuantificar esta correlación"
   ]
  },
  {
   "cell_type": "code",
   "execution_count": 151,
   "id": "bc952724",
   "metadata": {},
   "outputs": [],
   "source": [
    "x = np.sort(df['Hora'].unique())\n",
    "total = []\n",
    "for i in x:\n",
    "    total.append(df.loc[df['Hora'] == i, 'Ventas'].mean())"
   ]
  },
  {
   "cell_type": "code",
   "execution_count": 160,
   "id": "64f3102f",
   "metadata": {},
   "outputs": [
    {
     "data": {
      "text/plain": [
       "0          86\n",
       "48          0\n",
       "97          0\n",
       "149         0\n",
       "260         7\n",
       "           ..\n",
       "5170261     0\n",
       "5170288    24\n",
       "5170305    26\n",
       "5170323     0\n",
       "5170337    16\n",
       "Name: Ventas, Length: 215462, dtype: int64"
      ]
     },
     "execution_count": 160,
     "metadata": {},
     "output_type": "execute_result"
    }
   ],
   "source": [
    "df.loc[df['Hora']=='08:00 09:00', 'Ventas']"
   ]
  },
  {
   "cell_type": "code",
   "execution_count": 152,
   "id": "0e52d4c8",
   "metadata": {
    "scrolled": true
   },
   "outputs": [
    {
     "data": {
      "image/png": "[encoded data removed]",
      "text/plain": [
       "<Figure size 1080x576 with 1 Axes>"
      ]
     },
     "metadata": {
      "needs_background": "light"
     },
     "output_type": "display_data"
    }
   ],
   "source": [
    "plt.figure(figsize=(15,8))\n",
    "plt.bar(x,total, label='Ventas')\n",
    "plt.xticks(rotation = 45);\n",
    "plt.legend();\n"
   ]
  },
  {
   "cell_type": "code",
   "execution_count": 156,
   "id": "b92d3fff",
   "metadata": {
    "scrolled": true
   },
   "outputs": [
    {
     "data": {
      "text/plain": [
       "array([[1.        , 0.75816191],\n",
       "       [0.75816191, 1.        ]])"
      ]
     },
     "execution_count": 156,
     "metadata": {},
     "output_type": "execute_result"
    }
   ],
   "source": [
    "np.corrcoef(np.linspace(0.5,23.5,24),total)"
   ]
  },
  {
   "cell_type": "markdown",
   "id": "5426f2db",
   "metadata": {},
   "source": [
    "Entonces el coeficiente de correlación es 0.75 y nos indica que hay una correlación positiva osea que si aumenta la hora es posible que aumenten las ventas"
   ]
  },
  {
   "cell_type": "markdown",
   "id": "2fb1f2db",
   "metadata": {},
   "source": [
    "# Exploración de un local particular"
   ]
  },
  {
   "cell_type": "markdown",
   "id": "b6371c83",
   "metadata": {},
   "source": [
    "### Filtro el dataset y me quedo con el local 85262 y mes de junio"
   ]
  },
  {
   "cell_type": "code",
   "execution_count": 227,
   "id": "fa194b77",
   "metadata": {
    "scrolled": true
   },
   "outputs": [],
   "source": [
    "df['Fecha'] = pd.to_datetime(df['Fecha'])\n",
    "dff = df[df.Local==85262]"
   ]
  },
  {
   "cell_type": "code",
   "execution_count": 230,
   "id": "8f958cf6",
   "metadata": {},
   "outputs": [],
   "source": [
    "a = pd.DatetimeIndex(dff['Fecha']).month;"
   ]
  },
  {
   "cell_type": "code",
   "execution_count": 247,
   "id": "e3f8a108",
   "metadata": {},
   "outputs": [],
   "source": [
    "dff = dff.assign(Mes=a)"
   ]
  },
  {
   "cell_type": "code",
   "execution_count": 249,
   "id": "39313f3b",
   "metadata": {},
   "outputs": [
    {
     "data": {
      "text/html": [
       "<div>\n",
       "<style scoped>\n",
       "    .dataframe tbody tr th:only-of-type {\n",
       "        vertical-align: middle;\n",
       "    }\n",
       "\n",
       "    .dataframe tbody tr th {\n",
       "        vertical-align: top;\n",
       "    }\n",
       "\n",
       "    .dataframe thead th {\n",
       "        text-align: right;\n",
       "    }\n",
       "</style>\n",
       "<table border=\"1\" class=\"dataframe\">\n",
       "  <thead>\n",
       "    <tr style=\"text-align: right;\">\n",
       "      <th></th>\n",
       "      <th>Fecha</th>\n",
       "      <th>Hora</th>\n",
       "      <th>Local</th>\n",
       "      <th>Tipo_Local</th>\n",
       "      <th>Area</th>\n",
       "      <th>Ventas</th>\n",
       "      <th>Mes</th>\n",
       "    </tr>\n",
       "  </thead>\n",
       "  <tbody>\n",
       "    <tr>\n",
       "      <th>4790</th>\n",
       "      <td>2019-06-17</td>\n",
       "      <td>13:00 14:00</td>\n",
       "      <td>85262</td>\n",
       "      <td>MS</td>\n",
       "      <td>17</td>\n",
       "      <td>119</td>\n",
       "      <td>6</td>\n",
       "    </tr>\n",
       "    <tr>\n",
       "      <th>5623</th>\n",
       "      <td>2019-06-04</td>\n",
       "      <td>16:00 17:00</td>\n",
       "      <td>85262</td>\n",
       "      <td>MS</td>\n",
       "      <td>6</td>\n",
       "      <td>27</td>\n",
       "      <td>6</td>\n",
       "    </tr>\n",
       "    <tr>\n",
       "      <th>12763</th>\n",
       "      <td>2019-06-24</td>\n",
       "      <td>07:00 08:00</td>\n",
       "      <td>85262</td>\n",
       "      <td>MS</td>\n",
       "      <td>17</td>\n",
       "      <td>0</td>\n",
       "      <td>6</td>\n",
       "    </tr>\n",
       "    <tr>\n",
       "      <th>15976</th>\n",
       "      <td>2019-06-14</td>\n",
       "      <td>04:00 05:00</td>\n",
       "      <td>85262</td>\n",
       "      <td>MS</td>\n",
       "      <td>9</td>\n",
       "      <td>0</td>\n",
       "      <td>6</td>\n",
       "    </tr>\n",
       "    <tr>\n",
       "      <th>20498</th>\n",
       "      <td>2019-06-23</td>\n",
       "      <td>21:00 22:00</td>\n",
       "      <td>85262</td>\n",
       "      <td>MS</td>\n",
       "      <td>6</td>\n",
       "      <td>184</td>\n",
       "      <td>6</td>\n",
       "    </tr>\n",
       "    <tr>\n",
       "      <th>...</th>\n",
       "      <td>...</td>\n",
       "      <td>...</td>\n",
       "      <td>...</td>\n",
       "      <td>...</td>\n",
       "      <td>...</td>\n",
       "      <td>...</td>\n",
       "      <td>...</td>\n",
       "    </tr>\n",
       "    <tr>\n",
       "      <th>4551261</th>\n",
       "      <td>2019-06-12</td>\n",
       "      <td>14:00 15:00</td>\n",
       "      <td>85262</td>\n",
       "      <td>MS</td>\n",
       "      <td>17</td>\n",
       "      <td>56</td>\n",
       "      <td>6</td>\n",
       "    </tr>\n",
       "    <tr>\n",
       "      <th>4552229</th>\n",
       "      <td>2019-06-27</td>\n",
       "      <td>21:00 22:00</td>\n",
       "      <td>85262</td>\n",
       "      <td>MS</td>\n",
       "      <td>17</td>\n",
       "      <td>72</td>\n",
       "      <td>6</td>\n",
       "    </tr>\n",
       "    <tr>\n",
       "      <th>4552911</th>\n",
       "      <td>2019-06-01</td>\n",
       "      <td>23:00 00:00</td>\n",
       "      <td>85262</td>\n",
       "      <td>MS</td>\n",
       "      <td>17</td>\n",
       "      <td>44</td>\n",
       "      <td>6</td>\n",
       "    </tr>\n",
       "    <tr>\n",
       "      <th>4553637</th>\n",
       "      <td>2019-06-11</td>\n",
       "      <td>23:00 00:00</td>\n",
       "      <td>85262</td>\n",
       "      <td>MS</td>\n",
       "      <td>7</td>\n",
       "      <td>17</td>\n",
       "      <td>6</td>\n",
       "    </tr>\n",
       "    <tr>\n",
       "      <th>4553703</th>\n",
       "      <td>2019-06-22</td>\n",
       "      <td>17:00 18:00</td>\n",
       "      <td>85262</td>\n",
       "      <td>MS</td>\n",
       "      <td>17</td>\n",
       "      <td>75</td>\n",
       "      <td>6</td>\n",
       "    </tr>\n",
       "  </tbody>\n",
       "</table>\n",
       "<p>2928 rows × 7 columns</p>\n",
       "</div>"
      ],
      "text/plain": [
       "             Fecha         Hora  Local Tipo_Local  Area  Ventas  Mes\n",
       "4790    2019-06-17  13:00 14:00  85262         MS    17     119    6\n",
       "5623    2019-06-04  16:00 17:00  85262         MS     6      27    6\n",
       "12763   2019-06-24  07:00 08:00  85262         MS    17       0    6\n",
       "15976   2019-06-14  04:00 05:00  85262         MS     9       0    6\n",
       "20498   2019-06-23  21:00 22:00  85262         MS     6     184    6\n",
       "...            ...          ...    ...        ...   ...     ...  ...\n",
       "4551261 2019-06-12  14:00 15:00  85262         MS    17      56    6\n",
       "4552229 2019-06-27  21:00 22:00  85262         MS    17      72    6\n",
       "4552911 2019-06-01  23:00 00:00  85262         MS    17      44    6\n",
       "4553637 2019-06-11  23:00 00:00  85262         MS     7      17    6\n",
       "4553703 2019-06-22  17:00 18:00  85262         MS    17      75    6\n",
       "\n",
       "[2928 rows x 7 columns]"
      ]
     },
     "execution_count": 249,
     "metadata": {},
     "output_type": "execute_result"
    }
   ],
   "source": [
    "df1  = dff[dff.Mes==6]\n",
    "df1"
   ]
  },
  {
   "cell_type": "markdown",
   "id": "b8d53799",
   "metadata": {},
   "source": [
    "### Calculo la correlación entre la hora y la venta"
   ]
  },
  {
   "cell_type": "code",
   "execution_count": 283,
   "id": "6b3658e1",
   "metadata": {},
   "outputs": [],
   "source": [
    "x = np.sort(dff['Hora'].unique())\n",
    "total_ = []\n",
    "for i in x:\n",
    "    total_.append(dff.loc[dff['Hora'] == i, 'Ventas'].mean())"
   ]
  },
  {
   "cell_type": "code",
   "execution_count": 284,
   "id": "ee2579d7",
   "metadata": {},
   "outputs": [
    {
     "data": {
      "text/html": [
       "<div>\n",
       "<style scoped>\n",
       "    .dataframe tbody tr th:only-of-type {\n",
       "        vertical-align: middle;\n",
       "    }\n",
       "\n",
       "    .dataframe tbody tr th {\n",
       "        vertical-align: top;\n",
       "    }\n",
       "\n",
       "    .dataframe thead th {\n",
       "        text-align: right;\n",
       "    }\n",
       "</style>\n",
       "<table border=\"1\" class=\"dataframe\">\n",
       "  <thead>\n",
       "    <tr style=\"text-align: right;\">\n",
       "      <th></th>\n",
       "      <th>Fecha</th>\n",
       "      <th>Hora</th>\n",
       "      <th>Local</th>\n",
       "      <th>Tipo_Local</th>\n",
       "      <th>Area</th>\n",
       "      <th>Ventas</th>\n",
       "      <th>Mes</th>\n",
       "    </tr>\n",
       "  </thead>\n",
       "  <tbody>\n",
       "    <tr>\n",
       "      <th>4790</th>\n",
       "      <td>2019-06-17</td>\n",
       "      <td>13:00 14:00</td>\n",
       "      <td>85262</td>\n",
       "      <td>MS</td>\n",
       "      <td>17</td>\n",
       "      <td>119</td>\n",
       "      <td>6</td>\n",
       "    </tr>\n",
       "    <tr>\n",
       "      <th>5623</th>\n",
       "      <td>2019-06-04</td>\n",
       "      <td>16:00 17:00</td>\n",
       "      <td>85262</td>\n",
       "      <td>MS</td>\n",
       "      <td>6</td>\n",
       "      <td>27</td>\n",
       "      <td>6</td>\n",
       "    </tr>\n",
       "    <tr>\n",
       "      <th>12763</th>\n",
       "      <td>2019-06-24</td>\n",
       "      <td>07:00 08:00</td>\n",
       "      <td>85262</td>\n",
       "      <td>MS</td>\n",
       "      <td>17</td>\n",
       "      <td>0</td>\n",
       "      <td>6</td>\n",
       "    </tr>\n",
       "    <tr>\n",
       "      <th>15976</th>\n",
       "      <td>2019-06-14</td>\n",
       "      <td>04:00 05:00</td>\n",
       "      <td>85262</td>\n",
       "      <td>MS</td>\n",
       "      <td>9</td>\n",
       "      <td>0</td>\n",
       "      <td>6</td>\n",
       "    </tr>\n",
       "    <tr>\n",
       "      <th>20498</th>\n",
       "      <td>2019-06-23</td>\n",
       "      <td>21:00 22:00</td>\n",
       "      <td>85262</td>\n",
       "      <td>MS</td>\n",
       "      <td>6</td>\n",
       "      <td>184</td>\n",
       "      <td>6</td>\n",
       "    </tr>\n",
       "    <tr>\n",
       "      <th>...</th>\n",
       "      <td>...</td>\n",
       "      <td>...</td>\n",
       "      <td>...</td>\n",
       "      <td>...</td>\n",
       "      <td>...</td>\n",
       "      <td>...</td>\n",
       "      <td>...</td>\n",
       "    </tr>\n",
       "    <tr>\n",
       "      <th>4551261</th>\n",
       "      <td>2019-06-12</td>\n",
       "      <td>14:00 15:00</td>\n",
       "      <td>85262</td>\n",
       "      <td>MS</td>\n",
       "      <td>17</td>\n",
       "      <td>56</td>\n",
       "      <td>6</td>\n",
       "    </tr>\n",
       "    <tr>\n",
       "      <th>4552229</th>\n",
       "      <td>2019-06-27</td>\n",
       "      <td>21:00 22:00</td>\n",
       "      <td>85262</td>\n",
       "      <td>MS</td>\n",
       "      <td>17</td>\n",
       "      <td>72</td>\n",
       "      <td>6</td>\n",
       "    </tr>\n",
       "    <tr>\n",
       "      <th>4552911</th>\n",
       "      <td>2019-06-01</td>\n",
       "      <td>23:00 00:00</td>\n",
       "      <td>85262</td>\n",
       "      <td>MS</td>\n",
       "      <td>17</td>\n",
       "      <td>44</td>\n",
       "      <td>6</td>\n",
       "    </tr>\n",
       "    <tr>\n",
       "      <th>4553637</th>\n",
       "      <td>2019-06-11</td>\n",
       "      <td>23:00 00:00</td>\n",
       "      <td>85262</td>\n",
       "      <td>MS</td>\n",
       "      <td>7</td>\n",
       "      <td>17</td>\n",
       "      <td>6</td>\n",
       "    </tr>\n",
       "    <tr>\n",
       "      <th>4553703</th>\n",
       "      <td>2019-06-22</td>\n",
       "      <td>17:00 18:00</td>\n",
       "      <td>85262</td>\n",
       "      <td>MS</td>\n",
       "      <td>17</td>\n",
       "      <td>75</td>\n",
       "      <td>6</td>\n",
       "    </tr>\n",
       "  </tbody>\n",
       "</table>\n",
       "<p>2928 rows × 7 columns</p>\n",
       "</div>"
      ],
      "text/plain": [
       "             Fecha         Hora  Local Tipo_Local  Area  Ventas  Mes\n",
       "4790    2019-06-17  13:00 14:00  85262         MS    17     119    6\n",
       "5623    2019-06-04  16:00 17:00  85262         MS     6      27    6\n",
       "12763   2019-06-24  07:00 08:00  85262         MS    17       0    6\n",
       "15976   2019-06-14  04:00 05:00  85262         MS     9       0    6\n",
       "20498   2019-06-23  21:00 22:00  85262         MS     6     184    6\n",
       "...            ...          ...    ...        ...   ...     ...  ...\n",
       "4551261 2019-06-12  14:00 15:00  85262         MS    17      56    6\n",
       "4552229 2019-06-27  21:00 22:00  85262         MS    17      72    6\n",
       "4552911 2019-06-01  23:00 00:00  85262         MS    17      44    6\n",
       "4553637 2019-06-11  23:00 00:00  85262         MS     7      17    6\n",
       "4553703 2019-06-22  17:00 18:00  85262         MS    17      75    6\n",
       "\n",
       "[2928 rows x 7 columns]"
      ]
     },
     "execution_count": 284,
     "metadata": {},
     "output_type": "execute_result"
    }
   ],
   "source": [
    "df1"
   ]
  },
  {
   "cell_type": "code",
   "execution_count": 245,
   "id": "3367e4a7",
   "metadata": {
    "scrolled": true
   },
   "outputs": [
    {
     "data": {
      "image/png": "[encoded data removed]",
      "text/plain": [
       "<Figure size 1080x576 with 1 Axes>"
      ]
     },
     "metadata": {
      "needs_background": "light"
     },
     "output_type": "display_data"
    }
   ],
   "source": [
    "plt.figure(figsize=(15,8))\n",
    "plt.bar(x,total_, label='Ventas')\n",
    "plt.xticks(rotation = 45);\n",
    "plt.legend();"
   ]
  },
  {
   "cell_type": "code",
   "execution_count": 246,
   "id": "b419f0be",
   "metadata": {},
   "outputs": [
    {
     "data": {
      "text/plain": [
       "array([[1.        , 0.81460822],\n",
       "       [0.81460822, 1.        ]])"
      ]
     },
     "execution_count": 246,
     "metadata": {},
     "output_type": "execute_result"
    }
   ],
   "source": [
    "np.corrcoef(np.linspace(0.5,23.5,24),total_)"
   ]
  },
  {
   "cell_type": "markdown",
   "id": "10eea342",
   "metadata": {},
   "source": [
    "### Calcular la correlación entre la hora y la venta para cada área\n"
   ]
  },
  {
   "cell_type": "code",
   "execution_count": 297,
   "id": "ec299536",
   "metadata": {},
   "outputs": [
    {
     "data": {
      "text/plain": [
       "array([ 5,  6,  7,  9, 17], dtype=int64)"
      ]
     },
     "execution_count": 297,
     "metadata": {},
     "output_type": "execute_result"
    }
   ],
   "source": [
    "area85 = np.sort(df1['Area'].unique())\n",
    "area85"
   ]
  },
  {
   "cell_type": "code",
   "execution_count": 312,
   "id": "692f359c",
   "metadata": {},
   "outputs": [
    {
     "name": "stdout",
     "output_type": "stream",
     "text": [
      "[[1.         0.58156749]\n",
      " [0.58156749 1.        ]] asociado a la área 5\n",
      "[[1.         0.73549702]\n",
      " [0.73549702 1.        ]] asociado a la área 6\n",
      "[[1.         0.81303885]\n",
      " [0.81303885 1.        ]] asociado a la área 7\n",
      "[[1.        0.6400023]\n",
      " [0.6400023 1.       ]] asociado a la área 9\n",
      "[[1.         0.75947083]\n",
      " [0.75947083 1.        ]] asociado a la área 17\n"
     ]
    }
   ],
   "source": [
    "x = np.sort(df1['Hora'].unique())\n",
    "for j in area85:    \n",
    "    aux = df1[df1.Area==j]\n",
    "    total_ = []\n",
    "    for i in x:\n",
    "        total_.append(aux.loc[df1['Hora'] == i, 'Ventas'].mean())\n",
    "    print(np.corrcoef(np.linspace(0.5,23.5,24),total_), 'asociado a la área', j)    "
   ]
  },
  {
   "cell_type": "code",
   "execution_count": null,
   "id": "26abc59f",
   "metadata": {},
   "outputs": [],
   "source": []
  }
 ],
 "metadata": {
  "kernelspec": {
   "display_name": "Python 3",
   "language": "python",
   "name": "python3"
  },
  "language_info": {
   "codemirror_mode": {
    "name": "ipython",
    "version": 3
   },
   "file_extension": ".py",
   "mimetype": "text/x-python",
   "name": "python",
   "nbconvert_exporter": "python",
   "pygments_lexer": "ipython3",
   "version": "3.8.8"
  }
 },
 "nbformat": 4,
 "nbformat_minor": 5
}
