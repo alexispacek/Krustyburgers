{
 "cells": [
  {
   "cell_type": "code",
   "execution_count": 77,
   "id": "c0d767ca",
   "metadata": {},
   "outputs": [],
   "source": [
    "#By: Alexis Pacek\n",
    "#Date: Octubre de 2021\n",
    "\n",
    "\n",
    "\n",
    "#Importo las librerias\n",
    "import pandas as pd\n",
    "import numpy as np\n",
    "import matplotlib.pyplot as plt\n",
    "import seaborn as sns\n",
    "from scipy import stats"
   ]
  },
  {
   "cell_type": "code",
   "execution_count": 321,
   "id": "b38b0f66",
   "metadata": {},
   "outputs": [],
   "source": [
    "#importo el data set de las ventas de krostyburgers\n",
    "df = pd.read_csv('Argetina-2019-anonimizado.csv',parse_dates = True) "
   ]
  },
  {
   "cell_type": "code",
   "execution_count": 326,
   "id": "c3bdc861",
   "metadata": {},
   "outputs": [
    {
     "data": {
      "text/html": [
       "<div>\n",
       "<style scoped>\n",
       "    .dataframe tbody tr th:only-of-type {\n",
       "        vertical-align: middle;\n",
       "    }\n",
       "\n",
       "    .dataframe tbody tr th {\n",
       "        vertical-align: top;\n",
       "    }\n",
       "\n",
       "    .dataframe thead th {\n",
       "        text-align: right;\n",
       "    }\n",
       "</style>\n",
       "<table border=\"1\" class=\"dataframe\">\n",
       "  <thead>\n",
       "    <tr style=\"text-align: right;\">\n",
       "      <th></th>\n",
       "      <th>Fecha</th>\n",
       "      <th>Hora</th>\n",
       "      <th>Local</th>\n",
       "      <th>Tipo_Local</th>\n",
       "      <th>Area</th>\n",
       "      <th>Ventas</th>\n",
       "    </tr>\n",
       "  </thead>\n",
       "  <tbody>\n",
       "    <tr>\n",
       "      <th>0</th>\n",
       "      <td>3/6/2019</td>\n",
       "      <td>08:00 09:00</td>\n",
       "      <td>462</td>\n",
       "      <td>IS</td>\n",
       "      <td>6</td>\n",
       "      <td>86</td>\n",
       "    </tr>\n",
       "    <tr>\n",
       "      <th>1</th>\n",
       "      <td>10/5/2019</td>\n",
       "      <td>04:00 05:00</td>\n",
       "      <td>89869</td>\n",
       "      <td>FC</td>\n",
       "      <td>5</td>\n",
       "      <td>0</td>\n",
       "    </tr>\n",
       "    <tr>\n",
       "      <th>2</th>\n",
       "      <td>26/2/2019</td>\n",
       "      <td>03:00 04:00</td>\n",
       "      <td>89985</td>\n",
       "      <td>FC</td>\n",
       "      <td>6</td>\n",
       "      <td>10</td>\n",
       "    </tr>\n",
       "    <tr>\n",
       "      <th>3</th>\n",
       "      <td>1/2/2019</td>\n",
       "      <td>02:00 03:00</td>\n",
       "      <td>507</td>\n",
       "      <td>FS</td>\n",
       "      <td>6</td>\n",
       "      <td>4</td>\n",
       "    </tr>\n",
       "    <tr>\n",
       "      <th>4</th>\n",
       "      <td>29/12/2019</td>\n",
       "      <td>04:00 05:00</td>\n",
       "      <td>403</td>\n",
       "      <td>FS</td>\n",
       "      <td>3</td>\n",
       "      <td>29</td>\n",
       "    </tr>\n",
       "    <tr>\n",
       "      <th>...</th>\n",
       "      <td>...</td>\n",
       "      <td>...</td>\n",
       "      <td>...</td>\n",
       "      <td>...</td>\n",
       "      <td>...</td>\n",
       "      <td>...</td>\n",
       "    </tr>\n",
       "    <tr>\n",
       "      <th>5170347</th>\n",
       "      <td>26/4/2019</td>\n",
       "      <td>07:00 08:00</td>\n",
       "      <td>89530</td>\n",
       "      <td>FS</td>\n",
       "      <td>6</td>\n",
       "      <td>7</td>\n",
       "    </tr>\n",
       "    <tr>\n",
       "      <th>5170348</th>\n",
       "      <td>2/11/2019</td>\n",
       "      <td>00:00 01:00</td>\n",
       "      <td>109</td>\n",
       "      <td>MS</td>\n",
       "      <td>7</td>\n",
       "      <td>44</td>\n",
       "    </tr>\n",
       "    <tr>\n",
       "      <th>5170349</th>\n",
       "      <td>19/2/2019</td>\n",
       "      <td>20:00 21:00</td>\n",
       "      <td>85299</td>\n",
       "      <td>IS</td>\n",
       "      <td>6</td>\n",
       "      <td>46</td>\n",
       "    </tr>\n",
       "    <tr>\n",
       "      <th>5170350</th>\n",
       "      <td>10/6/2019</td>\n",
       "      <td>12:00 13:00</td>\n",
       "      <td>2500</td>\n",
       "      <td>MS</td>\n",
       "      <td>7</td>\n",
       "      <td>2</td>\n",
       "    </tr>\n",
       "    <tr>\n",
       "      <th>5170351</th>\n",
       "      <td>8/6/2019</td>\n",
       "      <td>02:00 03:00</td>\n",
       "      <td>85299</td>\n",
       "      <td>IS</td>\n",
       "      <td>9</td>\n",
       "      <td>0</td>\n",
       "    </tr>\n",
       "  </tbody>\n",
       "</table>\n",
       "<p>5170352 rows × 6 columns</p>\n",
       "</div>"
      ],
      "text/plain": [
       "              Fecha         Hora  Local Tipo_Local  Area  Ventas\n",
       "0          3/6/2019  08:00 09:00    462         IS     6      86\n",
       "1         10/5/2019  04:00 05:00  89869         FC     5       0\n",
       "2         26/2/2019  03:00 04:00  89985         FC     6      10\n",
       "3          1/2/2019  02:00 03:00    507         FS     6       4\n",
       "4        29/12/2019  04:00 05:00    403         FS     3      29\n",
       "...             ...          ...    ...        ...   ...     ...\n",
       "5170347   26/4/2019  07:00 08:00  89530         FS     6       7\n",
       "5170348   2/11/2019  00:00 01:00    109         MS     7      44\n",
       "5170349   19/2/2019  20:00 21:00  85299         IS     6      46\n",
       "5170350   10/6/2019  12:00 13:00   2500         MS     7       2\n",
       "5170351    8/6/2019  02:00 03:00  85299         IS     9       0\n",
       "\n",
       "[5170352 rows x 6 columns]"
      ]
     },
     "execution_count": 326,
     "metadata": {},
     "output_type": "execute_result"
    }
   ],
   "source": [
    " "
   ]
  },
  {
   "cell_type": "markdown",
   "id": "d4f89efb",
   "metadata": {},
   "source": [
    "# Exploración inicial\n",
    "\n",
    "###  ¿La tabla posee valores nulos?"
   ]
  },
  {
   "cell_type": "code",
   "execution_count": 3,
   "id": "879e2d82",
   "metadata": {
    "scrolled": true
   },
   "outputs": [
    {
     "data": {
      "text/plain": [
       "Fecha         0\n",
       "Hora          0\n",
       "Local         0\n",
       "Tipo_Local    0\n",
       "Area          0\n",
       "Ventas        0\n",
       "dtype: int64"
      ]
     },
     "execution_count": 3,
     "metadata": {},
     "output_type": "execute_result"
    }
   ],
   "source": [
    "df.isnull().sum() \n",
    "#suma todos los NaN por columna y los printea a la derecha"
   ]
  },
  {
   "cell_type": "markdown",
   "id": "fbebba6b",
   "metadata": {},
   "source": [
    "#### No hay valores nulos."
   ]
  },
  {
   "cell_type": "markdown",
   "id": "361ed884",
   "metadata": {
    "scrolled": true
   },
   "source": [
    "### ¿Cuántos locales posee la empresa?"
   ]
  },
  {
   "cell_type": "code",
   "execution_count": 4,
   "id": "0cb32481",
   "metadata": {},
   "outputs": [
    {
     "name": "stdout",
     "output_type": "stream",
     "text": [
      "Hay 232 locales.\n"
     ]
    }
   ],
   "source": [
    "total_locales = len(df['Local'].unique())\n",
    "\n",
    "print('Hay' , total_locales, 'locales.') \n",
    "\n",
    "#cuento la cantidad de elementos que hay en un array conformado por \n",
    "#los id's de los locales sin repetir"
   ]
  },
  {
   "cell_type": "markdown",
   "id": "fe1d0fcd",
   "metadata": {},
   "source": [
    "### ¿Cuántos tipos de locales hay? ¿Cuántos locales hay por cada tipo?"
   ]
  },
  {
   "cell_type": "code",
   "execution_count": 5,
   "id": "be87c69a",
   "metadata": {},
   "outputs": [
    {
     "name": "stdout",
     "output_type": "stream",
     "text": [
      "Hay 4 tipos de locales.\n",
      "Ellos son:\n",
      "- IS\n",
      "- FC\n",
      "- FS\n",
      "- MS\n"
     ]
    }
   ],
   "source": [
    "print('Hay', len(df['Tipo_Local'].unique()),'tipos de locales.')\n",
    "print('Ellos son:')\n",
    "\n",
    "for i in df['Tipo_Local'].unique():\n",
    "    print('-',i)\n"
   ]
  },
  {
   "cell_type": "code",
   "execution_count": 6,
   "id": "dde97697",
   "metadata": {
    "scrolled": true
   },
   "outputs": [
    {
     "name": "stdout",
     "output_type": "stream",
     "text": [
      "81 locales son IS. 34.91 %\n",
      "37 locales son FC. 15.95 %\n",
      "65 locales son FS. 28.02 %\n",
      "49 locales son MS. 21.12 %\n"
     ]
    }
   ],
   "source": [
    "tipos_locales = df['Tipo_Local'].unique()\n",
    "todos = df.drop_duplicates(['Local'])\n",
    "\n",
    "for i in tipos_locales:\n",
    "\n",
    "    cantidad = todos[todos.Tipo_Local==i].shape[0]\n",
    "    print(cantidad,'locales son', i+'.', round((cantidad/total_locales)*100,2),'%')"
   ]
  },
  {
   "cell_type": "markdown",
   "id": "cd8c78b5",
   "metadata": {},
   "source": [
    "### ¿Cuántas áreas hay? ¿Todos los locales tienen la misma cantidad de áreas? Graficar la distribución de la cantidad de áreas por local."
   ]
  },
  {
   "cell_type": "code",
   "execution_count": 7,
   "id": "1b105c1f",
   "metadata": {},
   "outputs": [
    {
     "name": "stdout",
     "output_type": "stream",
     "text": [
      "Hay 9 áreas.\n"
     ]
    }
   ],
   "source": [
    "areas = df['Area'].unique()\n",
    "cant_areas = len(areas)\n",
    "print('Hay',cant_areas,'áreas.')\n"
   ]
  },
  {
   "cell_type": "code",
   "execution_count": 8,
   "id": "bfe70f09",
   "metadata": {
    "scrolled": true
   },
   "outputs": [
    {
     "name": "stdout",
     "output_type": "stream",
     "text": [
      "Local número 462 tiene [6 7 9] áreas y en total suma: 22\n",
      "Local número 89869 tiene [5 6] áreas y en total suma: 11\n",
      "Local número 89985 tiene [ 6 17  5] áreas y en total suma: 28\n",
      "Local número 507 tiene [6 9 3] áreas y en total suma: 18\n",
      "Local número 403 tiene [3 6] áreas y en total suma: 9\n"
     ]
    }
   ],
   "source": [
    "#Exploro para 5 locales\n",
    "\n",
    "j=0\n",
    "for i in df['Local'].unique():\n",
    "    print('Local número',i,'tiene',df[df.Local==i]['Area'].unique(),\n",
    "          'áreas','y en total suma:',sum(df[df.Local==i]['Area'].unique()))\n",
    "    j+=1\n",
    "    if j==5:\n",
    "        break"
   ]
  },
  {
   "cell_type": "markdown",
   "id": "eb7c085d",
   "metadata": {},
   "source": [
    "### Conclusión: Distintos locales tienen distintas áreas."
   ]
  },
  {
   "cell_type": "code",
   "execution_count": 9,
   "id": "c4e5e3cc",
   "metadata": {},
   "outputs": [],
   "source": [
    "y=[]\n",
    "for i in df['Local'].unique():\n",
    "    y.append(sum(df[df.Local==i]['Area'].unique()))"
   ]
  },
  {
   "cell_type": "code",
   "execution_count": 109,
   "id": "e4c3a5f2",
   "metadata": {
    "scrolled": true
   },
   "outputs": [
    {
     "data": {
      "image/png": "[encoded data removed]",
      "text/plain": [
       "<Figure size 576x288 with 1 Axes>"
      ]
     },
     "metadata": {
      "needs_background": "light"
     },
     "output_type": "display_data"
    }
   ],
   "source": [
    "g = sns.displot(data=y, kde=False, height=4, aspect=2)\n",
    "g.set_axis_labels(\"Área (a.u)\",\"Contador\")\n",
    "plt.title(\"Distribución de área total por local\");"
   ]
  },
  {
   "cell_type": "markdown",
   "id": "c9aa10dc",
   "metadata": {},
   "source": [
    "###  ¿Están correlacionadas la hora y la venta? Cuantificar esta correlación"
   ]
  },
  {
   "cell_type": "code",
   "execution_count": 151,
   "id": "bc952724",
   "metadata": {},
   "outputs": [],
   "source": [
    "x = np.sort(df['Hora'].unique())\n",
    "total = []\n",
    "for i in x:\n",
    "    total.append(df.loc[df['Hora'] == i, 'Ventas'].mean())"
   ]
  },
  {
   "cell_type": "code",
   "execution_count": 152,
   "id": "0e52d4c8",
   "metadata": {
    "scrolled": true
   },
   "outputs": [
    {
     "data": {
      "image/png": "[encoded data removed]",
      "text/plain": [
       "<Figure size 1080x576 with 1 Axes>"
      ]
     },
     "metadata": {
      "needs_background": "light"
     },
     "output_type": "display_data"
    }
   ],
   "source": [
    "plt.figure(figsize=(15,8))\n",
    "plt.bar(x,total, label='Ventas')\n",
    "plt.xticks(rotation = 45);\n",
    "plt.legend();\n"
   ]
  },
  {
   "cell_type": "code",
   "execution_count": 156,
   "id": "b92d3fff",
   "metadata": {
    "scrolled": true
   },
   "outputs": [
    {
     "data": {
      "text/plain": [
       "array([[1.        , 0.75816191],\n",
       "       [0.75816191, 1.        ]])"
      ]
     },
     "execution_count": 156,
     "metadata": {},
     "output_type": "execute_result"
    }
   ],
   "source": [
    "np.corrcoef(np.linspace(0.5,23.5,24),total)"
   ]
  },
  {
   "cell_type": "markdown",
   "id": "5426f2db",
   "metadata": {},
   "source": [
    "Entonces el coeficiente de correlación es 0.75 y nos indica que hay una correlación positiva osea que si aumenta la hora es posible que aumenten las ventas"
   ]
  },
  {
   "cell_type": "markdown",
   "id": "2fb1f2db",
   "metadata": {},
   "source": [
    "# Exploración de un local particular"
   ]
  },
  {
   "cell_type": "markdown",
   "id": "b6371c83",
   "metadata": {},
   "source": [
    "### Filtro el dataset y me quedo con el local 85262 y mes de junio"
   ]
  },
  {
   "cell_type": "code",
   "execution_count": 227,
   "id": "fa194b77",
   "metadata": {
    "scrolled": true
   },
   "outputs": [],
   "source": [
    "df['Fecha'] = pd.to_datetime(df['Fecha'])\n",
    "dff = df[df.Local==85262]"
   ]
  },
  {
   "cell_type": "code",
   "execution_count": 230,
   "id": "8f958cf6",
   "metadata": {},
   "outputs": [],
   "source": [
    "a = pd.DatetimeIndex(dff['Fecha']).month;"
   ]
  },
  {
   "cell_type": "code",
   "execution_count": 247,
   "id": "e3f8a108",
   "metadata": {},
   "outputs": [],
   "source": [
    "dff = dff.assign(Mes=a)"
   ]
  },
  {
   "cell_type": "code",
   "execution_count": 249,
   "id": "39313f3b",
   "metadata": {},
   "outputs": [
    {
     "data": {
      "text/html": [
       "<div>\n",
       "<style scoped>\n",
       "    .dataframe tbody tr th:only-of-type {\n",
       "        vertical-align: middle;\n",
       "    }\n",
       "\n",
       "    .dataframe tbody tr th {\n",
       "        vertical-align: top;\n",
       "    }\n",
       "\n",
       "    .dataframe thead th {\n",
       "        text-align: right;\n",
       "    }\n",
       "</style>\n",
       "<table border=\"1\" class=\"dataframe\">\n",
       "  <thead>\n",
       "    <tr style=\"text-align: right;\">\n",
       "      <th></th>\n",
       "      <th>Fecha</th>\n",
       "      <th>Hora</th>\n",
       "      <th>Local</th>\n",
       "      <th>Tipo_Local</th>\n",
       "      <th>Area</th>\n",
       "      <th>Ventas</th>\n",
       "      <th>Mes</th>\n",
       "    </tr>\n",
       "  </thead>\n",
       "  <tbody>\n",
       "    <tr>\n",
       "      <th>4790</th>\n",
       "      <td>2019-06-17</td>\n",
       "      <td>13:00 14:00</td>\n",
       "      <td>85262</td>\n",
       "      <td>MS</td>\n",
       "      <td>17</td>\n",
       "      <td>119</td>\n",
       "      <td>6</td>\n",
       "    </tr>\n",
       "    <tr>\n",
       "      <th>5623</th>\n",
       "      <td>2019-06-04</td>\n",
       "      <td>16:00 17:00</td>\n",
       "      <td>85262</td>\n",
       "      <td>MS</td>\n",
       "      <td>6</td>\n",
       "      <td>27</td>\n",
       "      <td>6</td>\n",
       "    </tr>\n",
       "    <tr>\n",
       "      <th>12763</th>\n",
       "      <td>2019-06-24</td>\n",
       "      <td>07:00 08:00</td>\n",
       "      <td>85262</td>\n",
       "      <td>MS</td>\n",
       "      <td>17</td>\n",
       "      <td>0</td>\n",
       "      <td>6</td>\n",
       "    </tr>\n",
       "    <tr>\n",
       "      <th>15976</th>\n",
       "      <td>2019-06-14</td>\n",
       "      <td>04:00 05:00</td>\n",
       "      <td>85262</td>\n",
       "      <td>MS</td>\n",
       "      <td>9</td>\n",
       "      <td>0</td>\n",
       "      <td>6</td>\n",
       "    </tr>\n",
       "    <tr>\n",
       "      <th>20498</th>\n",
       "      <td>2019-06-23</td>\n",
       "      <td>21:00 22:00</td>\n",
       "      <td>85262</td>\n",
       "      <td>MS</td>\n",
       "      <td>6</td>\n",
       "      <td>184</td>\n",
       "      <td>6</td>\n",
       "    </tr>\n",
       "    <tr>\n",
       "      <th>...</th>\n",
       "      <td>...</td>\n",
       "      <td>...</td>\n",
       "      <td>...</td>\n",
       "      <td>...</td>\n",
       "      <td>...</td>\n",
       "      <td>...</td>\n",
       "      <td>...</td>\n",
       "    </tr>\n",
       "    <tr>\n",
       "      <th>4551261</th>\n",
       "      <td>2019-06-12</td>\n",
       "      <td>14:00 15:00</td>\n",
       "      <td>85262</td>\n",
       "      <td>MS</td>\n",
       "      <td>17</td>\n",
       "      <td>56</td>\n",
       "      <td>6</td>\n",
       "    </tr>\n",
       "    <tr>\n",
       "      <th>4552229</th>\n",
       "      <td>2019-06-27</td>\n",
       "      <td>21:00 22:00</td>\n",
       "      <td>85262</td>\n",
       "      <td>MS</td>\n",
       "      <td>17</td>\n",
       "      <td>72</td>\n",
       "      <td>6</td>\n",
       "    </tr>\n",
       "    <tr>\n",
       "      <th>4552911</th>\n",
       "      <td>2019-06-01</td>\n",
       "      <td>23:00 00:00</td>\n",
       "      <td>85262</td>\n",
       "      <td>MS</td>\n",
       "      <td>17</td>\n",
       "      <td>44</td>\n",
       "      <td>6</td>\n",
       "    </tr>\n",
       "    <tr>\n",
       "      <th>4553637</th>\n",
       "      <td>2019-06-11</td>\n",
       "      <td>23:00 00:00</td>\n",
       "      <td>85262</td>\n",
       "      <td>MS</td>\n",
       "      <td>7</td>\n",
       "      <td>17</td>\n",
       "      <td>6</td>\n",
       "    </tr>\n",
       "    <tr>\n",
       "      <th>4553703</th>\n",
       "      <td>2019-06-22</td>\n",
       "      <td>17:00 18:00</td>\n",
       "      <td>85262</td>\n",
       "      <td>MS</td>\n",
       "      <td>17</td>\n",
       "      <td>75</td>\n",
       "      <td>6</td>\n",
       "    </tr>\n",
       "  </tbody>\n",
       "</table>\n",
       "<p>2928 rows × 7 columns</p>\n",
       "</div>"
      ],
      "text/plain": [
       "             Fecha         Hora  Local Tipo_Local  Area  Ventas  Mes\n",
       "4790    2019-06-17  13:00 14:00  85262         MS    17     119    6\n",
       "5623    2019-06-04  16:00 17:00  85262         MS     6      27    6\n",
       "12763   2019-06-24  07:00 08:00  85262         MS    17       0    6\n",
       "15976   2019-06-14  04:00 05:00  85262         MS     9       0    6\n",
       "20498   2019-06-23  21:00 22:00  85262         MS     6     184    6\n",
       "...            ...          ...    ...        ...   ...     ...  ...\n",
       "4551261 2019-06-12  14:00 15:00  85262         MS    17      56    6\n",
       "4552229 2019-06-27  21:00 22:00  85262         MS    17      72    6\n",
       "4552911 2019-06-01  23:00 00:00  85262         MS    17      44    6\n",
       "4553637 2019-06-11  23:00 00:00  85262         MS     7      17    6\n",
       "4553703 2019-06-22  17:00 18:00  85262         MS    17      75    6\n",
       "\n",
       "[2928 rows x 7 columns]"
      ]
     },
     "execution_count": 249,
     "metadata": {},
     "output_type": "execute_result"
    }
   ],
   "source": [
    "df1  = dff[dff.Mes==6]\n",
    "df1"
   ]
  },
  {
   "cell_type": "markdown",
   "id": "b8d53799",
   "metadata": {},
   "source": [
    "### Calculo la correlación entre la hora y la venta"
   ]
  },
  {
   "cell_type": "code",
   "execution_count": 283,
   "id": "6b3658e1",
   "metadata": {},
   "outputs": [],
   "source": [
    "x = np.sort(dff['Hora'].unique())\n",
    "total_ = []\n",
    "for i in x:\n",
    "    total_.append(dff.loc[dff['Hora'] == i, 'Ventas'].mean())"
   ]
  },
  {
   "cell_type": "code",
   "execution_count": 284,
   "id": "ee2579d7",
   "metadata": {},
   "outputs": [
    {
     "data": {
      "text/html": [
       "<div>\n",
       "<style scoped>\n",
       "    .dataframe tbody tr th:only-of-type {\n",
       "        vertical-align: middle;\n",
       "    }\n",
       "\n",
       "    .dataframe tbody tr th {\n",
       "        vertical-align: top;\n",
       "    }\n",
       "\n",
       "    .dataframe thead th {\n",
       "        text-align: right;\n",
       "    }\n",
       "</style>\n",
       "<table border=\"1\" class=\"dataframe\">\n",
       "  <thead>\n",
       "    <tr style=\"text-align: right;\">\n",
       "      <th></th>\n",
       "      <th>Fecha</th>\n",
       "      <th>Hora</th>\n",
       "      <th>Local</th>\n",
       "      <th>Tipo_Local</th>\n",
       "      <th>Area</th>\n",
       "      <th>Ventas</th>\n",
       "      <th>Mes</th>\n",
       "    </tr>\n",
       "  </thead>\n",
       "  <tbody>\n",
       "    <tr>\n",
       "      <th>4790</th>\n",
       "      <td>2019-06-17</td>\n",
       "      <td>13:00 14:00</td>\n",
       "      <td>85262</td>\n",
       "      <td>MS</td>\n",
       "      <td>17</td>\n",
       "      <td>119</td>\n",
       "      <td>6</td>\n",
       "    </tr>\n",
       "    <tr>\n",
       "      <th>5623</th>\n",
       "      <td>2019-06-04</td>\n",
       "      <td>16:00 17:00</td>\n",
       "      <td>85262</td>\n",
       "      <td>MS</td>\n",
       "      <td>6</td>\n",
       "      <td>27</td>\n",
       "      <td>6</td>\n",
       "    </tr>\n",
       "    <tr>\n",
       "      <th>12763</th>\n",
       "      <td>2019-06-24</td>\n",
       "      <td>07:00 08:00</td>\n",
       "      <td>85262</td>\n",
       "      <td>MS</td>\n",
       "      <td>17</td>\n",
       "      <td>0</td>\n",
       "      <td>6</td>\n",
       "    </tr>\n",
       "    <tr>\n",
       "      <th>15976</th>\n",
       "      <td>2019-06-14</td>\n",
       "      <td>04:00 05:00</td>\n",
       "      <td>85262</td>\n",
       "      <td>MS</td>\n",
       "      <td>9</td>\n",
       "      <td>0</td>\n",
       "      <td>6</td>\n",
       "    </tr>\n",
       "    <tr>\n",
       "      <th>20498</th>\n",
       "      <td>2019-06-23</td>\n",
       "      <td>21:00 22:00</td>\n",
       "      <td>85262</td>\n",
       "      <td>MS</td>\n",
       "      <td>6</td>\n",
       "      <td>184</td>\n",
       "      <td>6</td>\n",
       "    </tr>\n",
       "    <tr>\n",
       "      <th>...</th>\n",
       "      <td>...</td>\n",
       "      <td>...</td>\n",
       "      <td>...</td>\n",
       "      <td>...</td>\n",
       "      <td>...</td>\n",
       "      <td>...</td>\n",
       "      <td>...</td>\n",
       "    </tr>\n",
       "    <tr>\n",
       "      <th>4551261</th>\n",
       "      <td>2019-06-12</td>\n",
       "      <td>14:00 15:00</td>\n",
       "      <td>85262</td>\n",
       "      <td>MS</td>\n",
       "      <td>17</td>\n",
       "      <td>56</td>\n",
       "      <td>6</td>\n",
       "    </tr>\n",
       "    <tr>\n",
       "      <th>4552229</th>\n",
       "      <td>2019-06-27</td>\n",
       "      <td>21:00 22:00</td>\n",
       "      <td>85262</td>\n",
       "      <td>MS</td>\n",
       "      <td>17</td>\n",
       "      <td>72</td>\n",
       "      <td>6</td>\n",
       "    </tr>\n",
       "    <tr>\n",
       "      <th>4552911</th>\n",
       "      <td>2019-06-01</td>\n",
       "      <td>23:00 00:00</td>\n",
       "      <td>85262</td>\n",
       "      <td>MS</td>\n",
       "      <td>17</td>\n",
       "      <td>44</td>\n",
       "      <td>6</td>\n",
       "    </tr>\n",
       "    <tr>\n",
       "      <th>4553637</th>\n",
       "      <td>2019-06-11</td>\n",
       "      <td>23:00 00:00</td>\n",
       "      <td>85262</td>\n",
       "      <td>MS</td>\n",
       "      <td>7</td>\n",
       "      <td>17</td>\n",
       "      <td>6</td>\n",
       "    </tr>\n",
       "    <tr>\n",
       "      <th>4553703</th>\n",
       "      <td>2019-06-22</td>\n",
       "      <td>17:00 18:00</td>\n",
       "      <td>85262</td>\n",
       "      <td>MS</td>\n",
       "      <td>17</td>\n",
       "      <td>75</td>\n",
       "      <td>6</td>\n",
       "    </tr>\n",
       "  </tbody>\n",
       "</table>\n",
       "<p>2928 rows × 7 columns</p>\n",
       "</div>"
      ],
      "text/plain": [
       "             Fecha         Hora  Local Tipo_Local  Area  Ventas  Mes\n",
       "4790    2019-06-17  13:00 14:00  85262         MS    17     119    6\n",
       "5623    2019-06-04  16:00 17:00  85262         MS     6      27    6\n",
       "12763   2019-06-24  07:00 08:00  85262         MS    17       0    6\n",
       "15976   2019-06-14  04:00 05:00  85262         MS     9       0    6\n",
       "20498   2019-06-23  21:00 22:00  85262         MS     6     184    6\n",
       "...            ...          ...    ...        ...   ...     ...  ...\n",
       "4551261 2019-06-12  14:00 15:00  85262         MS    17      56    6\n",
       "4552229 2019-06-27  21:00 22:00  85262         MS    17      72    6\n",
       "4552911 2019-06-01  23:00 00:00  85262         MS    17      44    6\n",
       "4553637 2019-06-11  23:00 00:00  85262         MS     7      17    6\n",
       "4553703 2019-06-22  17:00 18:00  85262         MS    17      75    6\n",
       "\n",
       "[2928 rows x 7 columns]"
      ]
     },
     "execution_count": 284,
     "metadata": {},
     "output_type": "execute_result"
    }
   ],
   "source": [
    "df1"
   ]
  },
  {
   "cell_type": "code",
   "execution_count": 245,
   "id": "3367e4a7",
   "metadata": {
    "scrolled": true
   },
   "outputs": [
    {
     "data": {
      "image/png": "[encoded data removed]",
      "text/plain": [
       "<Figure size 1080x576 with 1 Axes>"
      ]
     },
     "metadata": {
      "needs_background": "light"
     },
     "output_type": "display_data"
    }
   ],
   "source": [
    "plt.figure(figsize=(15,8))\n",
    "plt.bar(x,total_, label='Ventas')\n",
    "plt.xticks(rotation = 45);\n",
    "plt.legend();"
   ]
  },
  {
   "cell_type": "code",
   "execution_count": 246,
   "id": "b419f0be",
   "metadata": {},
   "outputs": [
    {
     "data": {
      "text/plain": [
       "array([[1.        , 0.81460822],\n",
       "       [0.81460822, 1.        ]])"
      ]
     },
     "execution_count": 246,
     "metadata": {},
     "output_type": "execute_result"
    }
   ],
   "source": [
    "np.corrcoef(np.linspace(0.5,23.5,24),total_)"
   ]
  },
  {
   "cell_type": "markdown",
   "id": "10eea342",
   "metadata": {},
   "source": [
    "### Calcular la correlación entre la hora y la venta para cada área\n"
   ]
  },
  {
   "cell_type": "code",
   "execution_count": 297,
   "id": "ec299536",
   "metadata": {},
   "outputs": [
    {
     "data": {
      "text/plain": [
       "array([ 5,  6,  7,  9, 17], dtype=int64)"
      ]
     },
     "execution_count": 297,
     "metadata": {},
     "output_type": "execute_result"
    }
   ],
   "source": [
    "area85 = np.sort(df1['Area'].unique())\n",
    "area85"
   ]
  },
  {
   "cell_type": "code",
   "execution_count": 312,
   "id": "692f359c",
   "metadata": {},
   "outputs": [
    {
     "name": "stdout",
     "output_type": "stream",
     "text": [
      "[[1.         0.58156749]\n",
      " [0.58156749 1.        ]] asociado a la área 5\n",
      "[[1.         0.73549702]\n",
      " [0.73549702 1.        ]] asociado a la área 6\n",
      "[[1.         0.81303885]\n",
      " [0.81303885 1.        ]] asociado a la área 7\n",
      "[[1.        0.6400023]\n",
      " [0.6400023 1.       ]] asociado a la área 9\n",
      "[[1.         0.75947083]\n",
      " [0.75947083 1.        ]] asociado a la área 17\n"
     ]
    }
   ],
   "source": [
    "x = np.sort(df1['Hora'].unique())\n",
    "for j in area85:    \n",
    "    aux = df1[df1.Area==j]\n",
    "    total_ = []\n",
    "    for i in x:\n",
    "        total_.append(aux.loc[df1['Hora'] == i, 'Ventas'].mean())\n",
    "    print(np.corrcoef(np.linspace(0.5,23.5,24),total_), 'asociado a la área', j)    "
   ]
  },
  {
   "cell_type": "code",
   "execution_count": null,
   "id": "26abc59f",
   "metadata": {},
   "outputs": [],
   "source": []
  }
 ],
 "metadata": {
  "kernelspec": {
   "display_name": "Python 3",
   "language": "python",
   "name": "python3"
  },
  "language_info": {
   "codemirror_mode": {
    "name": "ipython",
    "version": 3
   },
   "file_extension": ".py",
   "mimetype": "text/x-python",
   "name": "python",
   "nbconvert_exporter": "python",
   "pygments_lexer": "ipython3",
   "version": "3.8.8"
  }
 },
 "nbformat": 4,
 "nbformat_minor": 5
}
