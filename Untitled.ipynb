{
 "cells": [
  {
   "cell_type": "code",
   "execution_count": 12,
   "id": "c0d767ca",
   "metadata": {},
   "outputs": [],
   "source": [
    "import pandas as pd\n",
    "import numpy as np"
   ]
  },
  {
   "cell_type": "code",
   "execution_count": 3,
   "id": "b38b0f66",
   "metadata": {},
   "outputs": [],
   "source": [
    "df = pd.read_csv('Argetina-2019-anonimizado.csv')"
   ]
  },
  {
   "cell_type": "code",
   "execution_count": 28,
   "id": "76e97a50",
   "metadata": {},
   "outputs": [
    {
     "data": {
      "text/plain": [
       "(array([2213577], dtype=int64),)"
      ]
     },
     "execution_count": 28,
     "metadata": {},
     "output_type": "execute_result"
    }
   ],
   "source": [
    "np.where(df['Ventas']==-372)"
   ]
  },
  {
   "cell_type": "code",
   "execution_count": 29,
   "id": "879e2d82",
   "metadata": {
    "scrolled": true
   },
   "outputs": [
    {
     "data": {
      "text/plain": [
       "Fecha           23/3/2019\n",
       "Hora          14:00 15:00\n",
       "Local               85328\n",
       "Tipo_Local             MS\n",
       "Area                    7\n",
       "Ventas               -372\n",
       "Name: 2213577, dtype: object"
      ]
     },
     "execution_count": 29,
     "metadata": {},
     "output_type": "execute_result"
    }
   ],
   "source": [
    "df.iloc[2213577]"
   ]
  },
  {
   "cell_type": "code",
   "execution_count": 56,
   "id": "6be0ceaf",
   "metadata": {},
   "outputs": [
    {
     "data": {
      "text/html": [
       "<div>\n",
       "<style scoped>\n",
       "    .dataframe tbody tr th:only-of-type {\n",
       "        vertical-align: middle;\n",
       "    }\n",
       "\n",
       "    .dataframe tbody tr th {\n",
       "        vertical-align: top;\n",
       "    }\n",
       "\n",
       "    .dataframe thead th {\n",
       "        text-align: right;\n",
       "    }\n",
       "</style>\n",
       "<table border=\"1\" class=\"dataframe\">\n",
       "  <thead>\n",
       "    <tr style=\"text-align: right;\">\n",
       "      <th></th>\n",
       "      <th>Fecha</th>\n",
       "      <th>Hora</th>\n",
       "      <th>Local</th>\n",
       "      <th>Tipo_Local</th>\n",
       "      <th>Area</th>\n",
       "      <th>Ventas</th>\n",
       "    </tr>\n",
       "  </thead>\n",
       "  <tbody>\n",
       "    <tr>\n",
       "      <th>0</th>\n",
       "      <td>3/6/2019</td>\n",
       "      <td>08:00 09:00</td>\n",
       "      <td>462</td>\n",
       "      <td>IS</td>\n",
       "      <td>6</td>\n",
       "      <td>86</td>\n",
       "    </tr>\n",
       "    <tr>\n",
       "      <th>1</th>\n",
       "      <td>10/5/2019</td>\n",
       "      <td>04:00 05:00</td>\n",
       "      <td>89869</td>\n",
       "      <td>FC</td>\n",
       "      <td>5</td>\n",
       "      <td>0</td>\n",
       "    </tr>\n",
       "    <tr>\n",
       "      <th>2</th>\n",
       "      <td>26/2/2019</td>\n",
       "      <td>03:00 04:00</td>\n",
       "      <td>89985</td>\n",
       "      <td>FC</td>\n",
       "      <td>6</td>\n",
       "      <td>10</td>\n",
       "    </tr>\n",
       "    <tr>\n",
       "      <th>3</th>\n",
       "      <td>1/2/2019</td>\n",
       "      <td>02:00 03:00</td>\n",
       "      <td>507</td>\n",
       "      <td>FS</td>\n",
       "      <td>6</td>\n",
       "      <td>4</td>\n",
       "    </tr>\n",
       "    <tr>\n",
       "      <th>4</th>\n",
       "      <td>29/12/2019</td>\n",
       "      <td>04:00 05:00</td>\n",
       "      <td>403</td>\n",
       "      <td>FS</td>\n",
       "      <td>3</td>\n",
       "      <td>29</td>\n",
       "    </tr>\n",
       "    <tr>\n",
       "      <th>...</th>\n",
       "      <td>...</td>\n",
       "      <td>...</td>\n",
       "      <td>...</td>\n",
       "      <td>...</td>\n",
       "      <td>...</td>\n",
       "      <td>...</td>\n",
       "    </tr>\n",
       "    <tr>\n",
       "      <th>5170347</th>\n",
       "      <td>26/4/2019</td>\n",
       "      <td>07:00 08:00</td>\n",
       "      <td>89530</td>\n",
       "      <td>FS</td>\n",
       "      <td>6</td>\n",
       "      <td>7</td>\n",
       "    </tr>\n",
       "    <tr>\n",
       "      <th>5170348</th>\n",
       "      <td>2/11/2019</td>\n",
       "      <td>00:00 01:00</td>\n",
       "      <td>109</td>\n",
       "      <td>MS</td>\n",
       "      <td>7</td>\n",
       "      <td>44</td>\n",
       "    </tr>\n",
       "    <tr>\n",
       "      <th>5170349</th>\n",
       "      <td>19/2/2019</td>\n",
       "      <td>20:00 21:00</td>\n",
       "      <td>85299</td>\n",
       "      <td>IS</td>\n",
       "      <td>6</td>\n",
       "      <td>46</td>\n",
       "    </tr>\n",
       "    <tr>\n",
       "      <th>5170350</th>\n",
       "      <td>10/6/2019</td>\n",
       "      <td>12:00 13:00</td>\n",
       "      <td>2500</td>\n",
       "      <td>MS</td>\n",
       "      <td>7</td>\n",
       "      <td>2</td>\n",
       "    </tr>\n",
       "    <tr>\n",
       "      <th>5170351</th>\n",
       "      <td>8/6/2019</td>\n",
       "      <td>02:00 03:00</td>\n",
       "      <td>85299</td>\n",
       "      <td>IS</td>\n",
       "      <td>9</td>\n",
       "      <td>0</td>\n",
       "    </tr>\n",
       "  </tbody>\n",
       "</table>\n",
       "<p>5170352 rows × 6 columns</p>\n",
       "</div>"
      ],
      "text/plain": [
       "              Fecha         Hora  Local Tipo_Local  Area  Ventas\n",
       "0          3/6/2019  08:00 09:00    462         IS     6      86\n",
       "1         10/5/2019  04:00 05:00  89869         FC     5       0\n",
       "2         26/2/2019  03:00 04:00  89985         FC     6      10\n",
       "3          1/2/2019  02:00 03:00    507         FS     6       4\n",
       "4        29/12/2019  04:00 05:00    403         FS     3      29\n",
       "...             ...          ...    ...        ...   ...     ...\n",
       "5170347   26/4/2019  07:00 08:00  89530         FS     6       7\n",
       "5170348   2/11/2019  00:00 01:00    109         MS     7      44\n",
       "5170349   19/2/2019  20:00 21:00  85299         IS     6      46\n",
       "5170350   10/6/2019  12:00 13:00   2500         MS     7       2\n",
       "5170351    8/6/2019  02:00 03:00  85299         IS     9       0\n",
       "\n",
       "[5170352 rows x 6 columns]"
      ]
     },
     "execution_count": 56,
     "metadata": {},
     "output_type": "execute_result"
    }
   ],
   "source": [
    "df"
   ]
  },
  {
   "cell_type": "code",
   "execution_count": 55,
   "id": "536c650a",
   "metadata": {},
   "outputs": [
    {
     "data": {
      "text/plain": [
       "0            3/6/2019\n",
       "1           10/5/2019\n",
       "2           26/2/2019\n",
       "3            1/2/2019\n",
       "4          29/12/2019\n",
       "              ...    \n",
       "5170347     26/4/2019\n",
       "5170348     2/11/2019\n",
       "5170349     19/2/2019\n",
       "5170350     10/6/2019\n",
       "5170351      8/6/2019\n",
       "Name: Fecha, Length: 5170352, dtype: object"
      ]
     },
     "execution_count": 55,
     "metadata": {},
     "output_type": "execute_result"
    }
   ],
   "source": [
    "df.loc[:,'Fecha'] "
   ]
  }
 ],
 "metadata": {
  "kernelspec": {
   "display_name": "Python 3",
   "language": "python",
   "name": "python3"
  },
  "language_info": {
   "codemirror_mode": {
    "name": "ipython",
    "version": 3
   },
   "file_extension": ".py",
   "mimetype": "text/x-python",
   "name": "python",
   "nbconvert_exporter": "python",
   "pygments_lexer": "ipython3",
   "version": "3.8.8"
  }
 },
 "nbformat": 4,
 "nbformat_minor": 5
}
