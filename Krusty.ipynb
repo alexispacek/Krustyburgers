{
 "cells": [
  {
   "cell_type": "code",
   "execution_count": 77,
   "id": "c0d767ca",
   "metadata": {},
   "outputs": [],
   "source": [
    "#By: Alexis Pacek\n",
    "#Date: Octubre de 2021\n",
    "\n",
    "\n",
    "\n",
    "#Importo las librerias\n",
    "import pandas as pd\n",
    "import numpy as np\n",
    "import matplotlib.pyplot as plt\n",
    "import seaborn as sns\n",
    "from scipy import stats"
   ]
  },
  {
   "cell_type": "code",
   "execution_count": 2,
   "id": "b38b0f66",
   "metadata": {},
   "outputs": [],
   "source": [
    "#importo el data set de las ventas de krostyburgers\n",
    "df = pd.read_csv('Argetina-2019-anonimizado.csv') "
   ]
  },
  {
   "cell_type": "markdown",
   "id": "d4f89efb",
   "metadata": {},
   "source": [
    "# Exploración inicial\n",
    "\n",
    "###  ¿La tabla posee valores nulos?"
   ]
  },
  {
   "cell_type": "code",
   "execution_count": 3,
   "id": "879e2d82",
   "metadata": {
    "scrolled": true
   },
   "outputs": [
    {
     "data": {
      "text/plain": [
       "Fecha         0\n",
       "Hora          0\n",
       "Local         0\n",
       "Tipo_Local    0\n",
       "Area          0\n",
       "Ventas        0\n",
       "dtype: int64"
      ]
     },
     "execution_count": 3,
     "metadata": {},
     "output_type": "execute_result"
    }
   ],
   "source": [
    "df.isnull().sum() \n",
    "#suma todos los NaN por columna y los printea a la derecha"
   ]
  },
  {
   "cell_type": "markdown",
   "id": "fbebba6b",
   "metadata": {},
   "source": [
    "#### No hay valores nulos."
   ]
  },
  {
   "cell_type": "markdown",
   "id": "361ed884",
   "metadata": {
    "scrolled": true
   },
   "source": [
    "### ¿Cuántos locales posee la empresa?"
   ]
  },
  {
   "cell_type": "code",
   "execution_count": 4,
   "id": "0cb32481",
   "metadata": {},
   "outputs": [
    {
     "name": "stdout",
     "output_type": "stream",
     "text": [
      "Hay 232 locales.\n"
     ]
    }
   ],
   "source": [
    "total_locales = len(df['Local'].unique())\n",
    "\n",
    "print('Hay' , total_locales, 'locales.') \n",
    "\n",
    "#cuento la cantidad de elementos que hay en un array conformado por \n",
    "#los id's de los locales sin repetir"
   ]
  },
  {
   "cell_type": "markdown",
   "id": "fe1d0fcd",
   "metadata": {},
   "source": [
    "### ¿Cuántos tipos de locales hay? ¿Cuántos locales hay por cada tipo?"
   ]
  },
  {
   "cell_type": "code",
   "execution_count": 5,
   "id": "be87c69a",
   "metadata": {},
   "outputs": [
    {
     "name": "stdout",
     "output_type": "stream",
     "text": [
      "Hay 4 tipos de locales.\n",
      "Ellos son:\n",
      "- IS\n",
      "- FC\n",
      "- FS\n",
      "- MS\n"
     ]
    }
   ],
   "source": [
    "print('Hay', len(df['Tipo_Local'].unique()),'tipos de locales.')\n",
    "print('Ellos son:')\n",
    "\n",
    "for i in df['Tipo_Local'].unique():\n",
    "    print('-',i)\n"
   ]
  },
  {
   "cell_type": "code",
   "execution_count": 6,
   "id": "dde97697",
   "metadata": {
    "scrolled": true
   },
   "outputs": [
    {
     "name": "stdout",
     "output_type": "stream",
     "text": [
      "81 locales son IS. 34.91 %\n",
      "37 locales son FC. 15.95 %\n",
      "65 locales son FS. 28.02 %\n",
      "49 locales son MS. 21.12 %\n"
     ]
    }
   ],
   "source": [
    "tipos_locales = df['Tipo_Local'].unique()\n",
    "todos = df.drop_duplicates(['Local'])\n",
    "\n",
    "for i in tipos_locales:\n",
    "\n",
    "    cantidad = todos[todos.Tipo_Local==i].shape[0]\n",
    "    print(cantidad,'locales son', i+'.', round((cantidad/total_locales)*100,2),'%')"
   ]
  },
  {
   "cell_type": "markdown",
   "id": "cd8c78b5",
   "metadata": {},
   "source": [
    "### ¿Cuántas áreas hay? ¿Todos los locales tienen la misma cantidad de áreas? Graficar la distribución de la cantidad de áreas por local."
   ]
  },
  {
   "cell_type": "code",
   "execution_count": 7,
   "id": "1b105c1f",
   "metadata": {},
   "outputs": [
    {
     "name": "stdout",
     "output_type": "stream",
     "text": [
      "Hay 9 áreas.\n"
     ]
    }
   ],
   "source": [
    "areas = df['Area'].unique()\n",
    "cant_areas = len(areas)\n",
    "print('Hay',cant_areas,'áreas.')\n"
   ]
  },
  {
   "cell_type": "code",
   "execution_count": 8,
   "id": "bfe70f09",
   "metadata": {
    "scrolled": true
   },
   "outputs": [
    {
     "name": "stdout",
     "output_type": "stream",
     "text": [
      "Local número 462 tiene [6 7 9] áreas y en total suma: 22\n",
      "Local número 89869 tiene [5 6] áreas y en total suma: 11\n",
      "Local número 89985 tiene [ 6 17  5] áreas y en total suma: 28\n",
      "Local número 507 tiene [6 9 3] áreas y en total suma: 18\n",
      "Local número 403 tiene [3 6] áreas y en total suma: 9\n"
     ]
    }
   ],
   "source": [
    "#Exploro para 5 locales\n",
    "\n",
    "j=0\n",
    "for i in df['Local'].unique():\n",
    "    print('Local número',i,'tiene',df[df.Local==i]['Area'].unique(),\n",
    "          'áreas','y en total suma:',sum(df[df.Local==i]['Area'].unique()))\n",
    "    j+=1\n",
    "    if j==5:\n",
    "        break"
   ]
  },
  {
   "cell_type": "markdown",
   "id": "eb7c085d",
   "metadata": {},
   "source": [
    "### Conclusión: Distintos locales tienen distintas áreas."
   ]
  },
  {
   "cell_type": "code",
   "execution_count": 9,
   "id": "c4e5e3cc",
   "metadata": {},
   "outputs": [],
   "source": [
    "y=[]\n",
    "for i in df['Local'].unique():\n",
    "    y.append(sum(df[df.Local==i]['Area'].unique()))"
   ]
  },
  {
   "cell_type": "code",
   "execution_count": 109,
   "id": "e4c3a5f2",
   "metadata": {
    "scrolled": true
   },
   "outputs": [
    {
     "data": {
      "image/png": "[encoded data removed]",
      "text/plain": [
       "<Figure size 576x288 with 1 Axes>"
      ]
     },
     "metadata": {
      "needs_background": "light"
     },
     "output_type": "display_data"
    }
   ],
   "source": [
    "g = sns.displot(data=y, kde=False, height=4, aspect=2)\n",
    "g.set_axis_labels(\"Área (a.u)\",\"Contador\")\n",
    "plt.title(\"Distribución de área total por local\");"
   ]
  },
  {
   "cell_type": "markdown",
   "id": "c9aa10dc",
   "metadata": {},
   "source": [
    "###  ¿Están correlacionadas la hora y la venta? Cuantificar esta correlación"
   ]
  },
  {
   "cell_type": "code",
   "execution_count": 151,
   "id": "bc952724",
   "metadata": {},
   "outputs": [],
   "source": [
    "x = np.sort(df['Hora'].unique())\n",
    "total = []\n",
    "for i in x:\n",
    "    total.append(df.loc[df['Hora'] == i, 'Ventas'].mean())"
   ]
  },
  {
   "cell_type": "code",
   "execution_count": 152,
   "id": "64a33d2b",
   "metadata": {
    "scrolled": true
   },
   "outputs": [
    {
     "data": {
      "image/png": "[encoded data removed]",
      "text/plain": [
       "<Figure size 1080x576 with 1 Axes>"
      ]
     },
     "metadata": {
      "needs_background": "light"
     },
     "output_type": "display_data"
    }
   ],
   "source": [
    "plt.figure(figsize=(15,8))\n",
    "plt.bar(x,total, label='Ventas')\n",
    "plt.xticks(rotation = 45);\n",
    "plt.legend();\n"
   ]
  },
  {
   "cell_type": "code",
   "execution_count": 156,
   "id": "f87f1cb9",
   "metadata": {
    "scrolled": false
   },
   "outputs": [
    {
     "data": {
      "text/plain": [
       "array([[1.        , 0.75816191],\n",
       "       [0.75816191, 1.        ]])"
      ]
     },
     "execution_count": 156,
     "metadata": {},
     "output_type": "execute_result"
    }
   ],
   "source": [
    "np.corrcoef(np.linspace(0.5,23.5,24),total)"
   ]
  },
  {
   "cell_type": "markdown",
   "id": "9852530a",
   "metadata": {},
   "source": [
    "Entonces el coeficiente de correlación es 0.75 y nos indica que hay una correlación positiva osea que si aumenta la hora es posible que aumenten las ventas"
   ]
  }
 ],
 "metadata": {
  "kernelspec": {
   "display_name": "Python 3",
   "language": "python",
   "name": "python3"
  },
  "language_info": {
   "codemirror_mode": {
    "name": "ipython",
    "version": 3
   },
   "file_extension": ".py",
   "mimetype": "text/x-python",
   "name": "python",
   "nbconvert_exporter": "python",
   "pygments_lexer": "ipython3",
   "version": "3.8.8"
  }
 },
 "nbformat": 4,
 "nbformat_minor": 5
}
