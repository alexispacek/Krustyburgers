{
 "cells": [
  {
   "cell_type": "code",
   "execution_count": 4,
   "id": "c0d767ca",
   "metadata": {},
   "outputs": [],
   "source": [
    "#By: Alexis Pacek\n",
    "#Date: Octubre de 2021\n",
    "\n",
    "\n",
    "\n",
    "#Importo las librerias\n",
    "import pandas as pd\n",
    "import numpy as np"
   ]
  },
  {
   "cell_type": "code",
   "execution_count": 42,
   "id": "b38b0f66",
   "metadata": {},
   "outputs": [],
   "source": [
    "#importo el data set de las ventas de krostyburgers\n",
    "df = pd.read_csv('Argetina-2019-anonimizado.csv') "
   ]
  },
  {
   "cell_type": "markdown",
   "id": "1b10e3cf",
   "metadata": {},
   "source": [
    "# Exploración inicial\n",
    "\n",
    "###  ¿La tabla posee valores nulos?"
   ]
  },
  {
   "cell_type": "code",
   "execution_count": 15,
   "id": "879e2d82",
   "metadata": {
    "scrolled": true
   },
   "outputs": [
    {
     "data": {
      "text/plain": [
       "Fecha         0\n",
       "Hora          0\n",
       "Local         0\n",
       "Tipo_Local    0\n",
       "Area          0\n",
       "Ventas        0\n",
       "dtype: int64"
      ]
     },
     "execution_count": 15,
     "metadata": {},
     "output_type": "execute_result"
    }
   ],
   "source": [
    "df.isnull().sum() \n",
    "#suma todos los NaN por columna y los printea a la derecha"
   ]
  },
  {
   "cell_type": "markdown",
   "id": "549ff782",
   "metadata": {},
   "source": [
    "#### No hay valores nulos."
   ]
  },
  {
   "cell_type": "markdown",
   "id": "0493ec3e",
   "metadata": {
    "scrolled": true
   },
   "source": [
    "### ¿Cuántos locales posee la empresa?"
   ]
  },
  {
   "cell_type": "code",
   "execution_count": 83,
   "id": "0cb32481",
   "metadata": {},
   "outputs": [
    {
     "name": "stdout",
     "output_type": "stream",
     "text": [
      "Hay 232 locales.\n"
     ]
    }
   ],
   "source": [
    "total_locales = len(df['Local'].unique())\n",
    "\n",
    "print('Hay' , total_locales, 'locales.') \n",
    "\n",
    "#cuento la cantidad de elementos que hay en un array conformado por \n",
    "#los id's de los locales sin repetir"
   ]
  },
  {
   "cell_type": "markdown",
   "id": "58f75f6f",
   "metadata": {},
   "source": [
    "### ¿Cuántos tipos de locales hay? ¿Cuántos locales hay por cada tipo?"
   ]
  },
  {
   "cell_type": "code",
   "execution_count": 37,
   "id": "896b991a",
   "metadata": {},
   "outputs": [
    {
     "name": "stdout",
     "output_type": "stream",
     "text": [
      "Hay 4 tipos de locales.\n",
      "Ellos son:\n",
      "IS\n",
      "FC\n",
      "FS\n",
      "MS\n"
     ]
    }
   ],
   "source": [
    "print('Hay', len(df['Tipo_Local'].unique()),'tipos de locales.')\n",
    "print('Ellos son:')\n",
    "\n",
    "for i in df['Tipo_Local'].unique():\n",
    "    print(i)\n"
   ]
  },
  {
   "cell_type": "code",
   "execution_count": 96,
   "id": "976ad6f4",
   "metadata": {
    "scrolled": true
   },
   "outputs": [
    {
     "name": "stdout",
     "output_type": "stream",
     "text": [
      "81 locales son IS. 34.91 %\n",
      "37 locales son FC. 15.95 %\n",
      "65 locales son FS. 28.02 %\n",
      "49 locales son MS. 21.12 %\n"
     ]
    }
   ],
   "source": [
    "tipos_locales = df['Tipo_Local'].unique()\n",
    "todos = df.drop_duplicates(['Local'])\n",
    "\n",
    "for i in tipos_locales:\n",
    "\n",
    "    cantidad = todos[todos.Tipo_Local==i].shape[0]\n",
    "    print(cantidad,'locales son', i+'.', round((cantidad/total_locales)*100,2),'%')"
   ]
  }
 ],
 "metadata": {
  "kernelspec": {
   "display_name": "Python 3",
   "language": "python",
   "name": "python3"
  },
  "language_info": {
   "codemirror_mode": {
    "name": "ipython",
    "version": 3
   },
   "file_extension": ".py",
   "mimetype": "text/x-python",
   "name": "python",
   "nbconvert_exporter": "python",
   "pygments_lexer": "ipython3",
   "version": "3.8.8"
  }
 },
 "nbformat": 4,
 "nbformat_minor": 5
}
